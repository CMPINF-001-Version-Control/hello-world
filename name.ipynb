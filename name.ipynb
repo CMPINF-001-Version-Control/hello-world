{
 "cells": [
  {
   "cell_type": "code",
   "execution_count": null,
   "metadata": {},
   "outputs": [],
   "source": [
    "fName = input(\"What's your first name? \")\n",
    "lName = input(\"What's your last name? \")\n",
    "\n",
    "print(\"Your full name is\", fName, lName)\n",
    "print(\"Your name is reverse is\", (fName + \" \" + lName)[::-1])"
   ]
  }
 ],
 "metadata": {
  "kernelspec": {
   "display_name": "Python 3",
   "language": "python",
   "name": "python3"
  },
  "language_info": {
   "name": "python",
   "version": "3.11.1"
  },
  "orig_nbformat": 4,
  "vscode": {
   "interpreter": {
    "hash": "bc79bed0333a930cf313cce049ab372a42592ca5c98a7908a8e03647c11d42bc"
   }
  }
 },
 "nbformat": 4,
 "nbformat_minor": 2
}
